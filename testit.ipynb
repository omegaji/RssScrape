{
 "metadata": {
  "language_info": {
   "codemirror_mode": {
    "name": "ipython",
    "version": 3
   },
   "file_extension": ".py",
   "mimetype": "text/x-python",
   "name": "python",
   "nbconvert_exporter": "python",
   "pygments_lexer": "ipython3",
   "version": "3.8.3-final"
  },
  "orig_nbformat": 2,
  "kernelspec": {
   "name": "python3",
   "display_name": "Python 3.8.3 64-bit (conda)",
   "metadata": {
    "interpreter": {
     "hash": "4679094c71e58fd5daa32654c6d4dcc218cb243910207196539a7dfc04a8a332"
    }
   }
  }
 },
 "nbformat": 4,
 "nbformat_minor": 2,
 "cells": [
  {
   "cell_type": "code",
   "execution_count": 1,
   "metadata": {},
   "outputs": [],
   "source": [
    "import pandas as pd"
   ]
  },
  {
   "cell_type": "code",
   "execution_count": 2,
   "metadata": {},
   "outputs": [],
   "source": [
    "df=pd.read_csv(\"test2.csv\")"
   ]
  },
  {
   "cell_type": "code",
   "execution_count": 14,
   "metadata": {},
   "outputs": [
    {
     "output_type": "execute_result",
     "data": {
      "text/plain": [
       "8                        MAY 15, 2014 NEWSLETTER &#8211;\n",
       "9      Announcing: The 2016 NAIFA 50th Anniversary Co...\n",
       "10       OCTOBER 1, 2014 NEWSLETTER &#8211; &#8211; Copy\n",
       "11                       JUNE 1, 2014 NEWSLETTER &#8211;\n",
       "12                      JUNE 15, 2014 NEWSLETTER &#8211;\n",
       "                             ...                        \n",
       "263    Nice post. I learn something totally new and c...\n",
       "264    Having read this I believed it was rather info...\n",
       "265    When I initially left a comment I appear to ha...\n",
       "266    The next time I read a blog, I hope that it wo...\n",
       "267    Way cool! Some extremely valid points! I appre...\n",
       "Name: content, Length: 235, dtype: object"
      ]
     },
     "metadata": {},
     "execution_count": 14
    }
   ],
   "source": [
    "df[df.large_content!=\"none\"][\"published\"]"
   ]
  },
  {
   "cell_type": "code",
   "execution_count": 7,
   "metadata": {},
   "outputs": [
    {
     "output_type": "execute_result",
     "data": {
      "text/plain": [
       "0      none\n",
       "1      none\n",
       "2      none\n",
       "3      none\n",
       "4      none\n",
       "       ... \n",
       "288    none\n",
       "289    none\n",
       "290    none\n",
       "291    none\n",
       "292    none\n",
       "Name: large_content, Length: 293, dtype: object"
      ]
     },
     "metadata": {},
     "execution_count": 7
    }
   ],
   "source": [
    "df[\"large_content\"]"
   ]
  },
  {
   "cell_type": "code",
   "execution_count": null,
   "metadata": {},
   "outputs": [],
   "source": []
  }
 ]
}